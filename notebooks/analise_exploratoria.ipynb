{
 "cells": [
  {
   "cell_type": "code",
   "execution_count": 60,
   "id": "dcb175a6-7408-4884-8eab-3e8d3938eabb",
   "metadata": {},
   "outputs": [],
   "source": [
    "import pandas as pd\n",
    "import numpy as np"
   ]
  },
  {
   "cell_type": "code",
   "execution_count": 2,
   "id": "35cd8404-08c9-4853-98c1-758e46215148",
   "metadata": {},
   "outputs": [
    {
     "name": "stdout",
     "output_type": "stream",
     "text": [
      "Arquivo carregado com sucesso!\n"
     ]
    }
   ],
   "source": [
    "try:\n",
    "    df_raw = pd.read_csv('../data/dataset_saude_brasil.csv', sep=',')\n",
    "    print(\"Arquivo carregado com sucesso!\")\n",
    "\n",
    "except FileNotFoundError:\n",
    "    print(\"Erro: O arquivo 'dataset_saude_brasil.csv' não foi encontrado no diretório 'data/'.\")\n",
    "    \n",
    "except Exception as e:\n",
    "    print(f\"Ocorreu um erro inesperado: {e}\")"
   ]
  },
  {
   "cell_type": "code",
   "execution_count": 3,
   "id": "9f3498bb-2307-46f3-9d68-9c661e573ef8",
   "metadata": {},
   "outputs": [
    {
     "data": {
      "text/html": [
       "<div>\n",
       "<style scoped>\n",
       "    .dataframe tbody tr th:only-of-type {\n",
       "        vertical-align: middle;\n",
       "    }\n",
       "\n",
       "    .dataframe tbody tr th {\n",
       "        vertical-align: top;\n",
       "    }\n",
       "\n",
       "    .dataframe thead th {\n",
       "        text-align: right;\n",
       "    }\n",
       "</style>\n",
       "<table border=\"1\" class=\"dataframe\">\n",
       "  <thead>\n",
       "    <tr style=\"text-align: right;\">\n",
       "      <th></th>\n",
       "      <th>ID</th>\n",
       "      <th>Idade</th>\n",
       "      <th>Sexo</th>\n",
       "      <th>IMC</th>\n",
       "      <th>Passos_Diarios</th>\n",
       "      <th>Horas_Sono</th>\n",
       "      <th>Agua_Litros</th>\n",
       "      <th>Calorias</th>\n",
       "      <th>Fumante</th>\n",
       "      <th>Alcool</th>\n",
       "      <th>Horas_Trabalho</th>\n",
       "      <th>Frequencia_Cardiaca_Repouso</th>\n",
       "      <th>Pressao_Sistolica</th>\n",
       "      <th>Pressao_Diastolica</th>\n",
       "      <th>Colesterol</th>\n",
       "      <th>Historico_Familiar</th>\n",
       "      <th>Risco_Doenca</th>\n",
       "    </tr>\n",
       "  </thead>\n",
       "  <tbody>\n",
       "    <tr>\n",
       "      <th>0</th>\n",
       "      <td>1</td>\n",
       "      <td>69.0</td>\n",
       "      <td>Masculino</td>\n",
       "      <td>29.1</td>\n",
       "      <td>15604.0</td>\n",
       "      <td>7.4</td>\n",
       "      <td>0.9</td>\n",
       "      <td>1297.0</td>\n",
       "      <td>Não</td>\n",
       "      <td>Moderado</td>\n",
       "      <td>8</td>\n",
       "      <td>86</td>\n",
       "      <td>123</td>\n",
       "      <td>95</td>\n",
       "      <td>225.0</td>\n",
       "      <td>Não</td>\n",
       "      <td>Baixo</td>\n",
       "    </tr>\n",
       "    <tr>\n",
       "      <th>1</th>\n",
       "      <td>2</td>\n",
       "      <td>32.0</td>\n",
       "      <td>Feminino</td>\n",
       "      <td>22.3</td>\n",
       "      <td>9607.0</td>\n",
       "      <td>7.6</td>\n",
       "      <td>1.9</td>\n",
       "      <td>3529.0</td>\n",
       "      <td>Não</td>\n",
       "      <td>Moderado</td>\n",
       "      <td>12</td>\n",
       "      <td>54</td>\n",
       "      <td>140</td>\n",
       "      <td>85</td>\n",
       "      <td>222.0</td>\n",
       "      <td>Sim</td>\n",
       "      <td>Baixo</td>\n",
       "    </tr>\n",
       "    <tr>\n",
       "      <th>2</th>\n",
       "      <td>3</td>\n",
       "      <td>89.0</td>\n",
       "      <td>Masculino</td>\n",
       "      <td>25.6</td>\n",
       "      <td>4160.0</td>\n",
       "      <td>6.7</td>\n",
       "      <td>2.3</td>\n",
       "      <td>4399.0</td>\n",
       "      <td>Não</td>\n",
       "      <td>Moderado</td>\n",
       "      <td>10</td>\n",
       "      <td>75</td>\n",
       "      <td>110</td>\n",
       "      <td>60</td>\n",
       "      <td>131.0</td>\n",
       "      <td>Sim</td>\n",
       "      <td>Moderado</td>\n",
       "    </tr>\n",
       "    <tr>\n",
       "      <th>3</th>\n",
       "      <td>4</td>\n",
       "      <td>78.0</td>\n",
       "      <td>Feminino</td>\n",
       "      <td>35.3</td>\n",
       "      <td>3569.0</td>\n",
       "      <td>6.9</td>\n",
       "      <td>0.7</td>\n",
       "      <td>1595.0</td>\n",
       "      <td>Não</td>\n",
       "      <td>Baixo</td>\n",
       "      <td>9</td>\n",
       "      <td>92</td>\n",
       "      <td>167</td>\n",
       "      <td>117</td>\n",
       "      <td>199.0</td>\n",
       "      <td>Não</td>\n",
       "      <td>Alto</td>\n",
       "    </tr>\n",
       "    <tr>\n",
       "      <th>4</th>\n",
       "      <td>5</td>\n",
       "      <td>38.0</td>\n",
       "      <td>Masculino</td>\n",
       "      <td>NaN</td>\n",
       "      <td>13174.0</td>\n",
       "      <td>8.2</td>\n",
       "      <td>1.1</td>\n",
       "      <td>1635.0</td>\n",
       "      <td>Não</td>\n",
       "      <td>Baixo</td>\n",
       "      <td>12</td>\n",
       "      <td>73</td>\n",
       "      <td>105</td>\n",
       "      <td>77</td>\n",
       "      <td>266.0</td>\n",
       "      <td>Sim</td>\n",
       "      <td>Moderado</td>\n",
       "    </tr>\n",
       "  </tbody>\n",
       "</table>\n",
       "</div>"
      ],
      "text/plain": [
       "   ID  Idade       Sexo   IMC Passos_Diarios  Horas_Sono  Agua_Litros  \\\n",
       "0   1   69.0  Masculino  29.1        15604.0         7.4          0.9   \n",
       "1   2   32.0   Feminino  22.3         9607.0         7.6          1.9   \n",
       "2   3   89.0  Masculino  25.6         4160.0         6.7          2.3   \n",
       "3   4   78.0   Feminino  35.3         3569.0         6.9          0.7   \n",
       "4   5   38.0  Masculino   NaN        13174.0         8.2          1.1   \n",
       "\n",
       "  Calorias Fumante    Alcool  Horas_Trabalho  Frequencia_Cardiaca_Repouso  \\\n",
       "0   1297.0     Não  Moderado               8                           86   \n",
       "1   3529.0     Não  Moderado              12                           54   \n",
       "2   4399.0     Não  Moderado              10                           75   \n",
       "3   1595.0     Não     Baixo               9                           92   \n",
       "4   1635.0     Não     Baixo              12                           73   \n",
       "\n",
       "   Pressao_Sistolica  Pressao_Diastolica Colesterol Historico_Familiar  \\\n",
       "0                123                  95      225.0                Não   \n",
       "1                140                  85      222.0                Sim   \n",
       "2                110                  60      131.0                Sim   \n",
       "3                167                 117      199.0                Não   \n",
       "4                105                  77      266.0                Sim   \n",
       "\n",
       "  Risco_Doenca  \n",
       "0        Baixo  \n",
       "1        Baixo  \n",
       "2     Moderado  \n",
       "3         Alto  \n",
       "4     Moderado  "
      ]
     },
     "execution_count": 3,
     "metadata": {},
     "output_type": "execute_result"
    }
   ],
   "source": [
    "df_raw.head()"
   ]
  },
  {
   "cell_type": "code",
   "execution_count": 4,
   "id": "41236533-89a6-4a30-9cba-f41aac043426",
   "metadata": {},
   "outputs": [
    {
     "name": "stdout",
     "output_type": "stream",
     "text": [
      "<class 'pandas.core.frame.DataFrame'>\n",
      "RangeIndex: 20000 entries, 0 to 19999\n",
      "Data columns (total 17 columns):\n",
      " #   Column                       Non-Null Count  Dtype  \n",
      "---  ------                       --------------  -----  \n",
      " 0   ID                           20000 non-null  int64  \n",
      " 1   Idade                        19651 non-null  float64\n",
      " 2   Sexo                         20000 non-null  object \n",
      " 3   IMC                          19650 non-null  float64\n",
      " 4   Passos_Diarios               19801 non-null  object \n",
      " 5   Horas_Sono                   20000 non-null  float64\n",
      " 6   Agua_Litros                  20000 non-null  float64\n",
      " 7   Calorias                     19800 non-null  object \n",
      " 8   Fumante                      20000 non-null  object \n",
      " 9   Alcool                       20000 non-null  object \n",
      " 10  Horas_Trabalho               20000 non-null  int64  \n",
      " 11  Frequencia_Cardiaca_Repouso  20000 non-null  int64  \n",
      " 12  Pressao_Sistolica            20000 non-null  int64  \n",
      " 13  Pressao_Diastolica           20000 non-null  int64  \n",
      " 14  Colesterol                   19801 non-null  object \n",
      " 15  Historico_Familiar           20000 non-null  object \n",
      " 16  Risco_Doenca                 20000 non-null  object \n",
      "dtypes: float64(4), int64(5), object(8)\n",
      "memory usage: 2.6+ MB\n"
     ]
    }
   ],
   "source": [
    "df_raw.info()"
   ]
  },
  {
   "cell_type": "code",
   "execution_count": 13,
   "id": "f4aa6a92-5985-43d0-9f9d-41c2759cffb5",
   "metadata": {},
   "outputs": [
    {
     "data": {
      "text/plain": [
       "ID                               0\n",
       "Idade                          349\n",
       "Sexo                             0\n",
       "IMC                            350\n",
       "Passos_Diarios                 199\n",
       "Horas_Sono                       0\n",
       "Agua_Litros                      0\n",
       "Calorias                       200\n",
       "Fumante                          0\n",
       "Alcool                           0\n",
       "Horas_Trabalho                   0\n",
       "Frequencia_Cardiaca_Repouso      0\n",
       "Pressao_Sistolica                0\n",
       "Pressao_Diastolica               0\n",
       "Colesterol                     199\n",
       "Historico_Familiar               0\n",
       "Risco_Doenca                     0\n",
       "dtype: int64"
      ]
     },
     "execution_count": 13,
     "metadata": {},
     "output_type": "execute_result"
    }
   ],
   "source": [
    "df_raw.isnull().sum()"
   ]
  },
  {
   "cell_type": "code",
   "execution_count": 17,
   "id": "5ed82f42-33ee-4ac1-96f4-07597eaa753d",
   "metadata": {},
   "outputs": [
    {
     "data": {
      "text/plain": [
       "(20000, 17)"
      ]
     },
     "execution_count": 17,
     "metadata": {},
     "output_type": "execute_result"
    }
   ],
   "source": [
    "df_raw.shape"
   ]
  },
  {
   "cell_type": "code",
   "execution_count": 19,
   "id": "7615ed7a-4671-4745-9f32-952bcb850ffb",
   "metadata": {},
   "outputs": [
    {
     "name": "stdout",
     "output_type": "stream",
     "text": [
      "\n",
      "Linhas com valores duplicados na coluna 'ID':\n",
      "Empty DataFrame\n",
      "Columns: [ID, Idade, Sexo, IMC, Passos_Diarios, Horas_Sono, Agua_Litros, Calorias, Fumante, Alcool, Horas_Trabalho, Frequencia_Cardiaca_Repouso, Pressao_Sistolica, Pressao_Diastolica, Colesterol, Historico_Familiar, Risco_Doenca]\n",
      "Index: []\n"
     ]
    }
   ],
   "source": [
    "duplicados_id = df_raw[df_raw['ID'].duplicated(keep=False)]\n",
    "print(\"\\nLinhas com valores duplicados na coluna 'ID':\")\n",
    "print(duplicados_id)"
   ]
  },
  {
   "cell_type": "code",
   "execution_count": 25,
   "id": "2a5e949e-0809-47f9-b847-02b190077d06",
   "metadata": {},
   "outputs": [],
   "source": [
    "df_clean = df_raw.dropna()"
   ]
  },
  {
   "cell_type": "code",
   "execution_count": 27,
   "id": "5ff732e3-409b-4d16-a25f-1174c479f54c",
   "metadata": {},
   "outputs": [
    {
     "data": {
      "text/plain": [
       "(18740, 17)"
      ]
     },
     "execution_count": 27,
     "metadata": {},
     "output_type": "execute_result"
    }
   ],
   "source": [
    "df_clean.shape"
   ]
  },
  {
   "cell_type": "code",
   "execution_count": 29,
   "id": "47ad8a62-f354-407f-a231-70d34d6263b4",
   "metadata": {},
   "outputs": [
    {
     "name": "stdout",
     "output_type": "stream",
     "text": [
      "<class 'pandas.core.frame.DataFrame'>\n",
      "Index: 18740 entries, 0 to 19999\n",
      "Data columns (total 17 columns):\n",
      " #   Column                       Non-Null Count  Dtype  \n",
      "---  ------                       --------------  -----  \n",
      " 0   ID                           18740 non-null  int64  \n",
      " 1   Idade                        18740 non-null  float64\n",
      " 2   Sexo                         18740 non-null  object \n",
      " 3   IMC                          18740 non-null  float64\n",
      " 4   Passos_Diarios               18740 non-null  object \n",
      " 5   Horas_Sono                   18740 non-null  float64\n",
      " 6   Agua_Litros                  18740 non-null  float64\n",
      " 7   Calorias                     18740 non-null  object \n",
      " 8   Fumante                      18740 non-null  object \n",
      " 9   Alcool                       18740 non-null  object \n",
      " 10  Horas_Trabalho               18740 non-null  int64  \n",
      " 11  Frequencia_Cardiaca_Repouso  18740 non-null  int64  \n",
      " 12  Pressao_Sistolica            18740 non-null  int64  \n",
      " 13  Pressao_Diastolica           18740 non-null  int64  \n",
      " 14  Colesterol                   18740 non-null  object \n",
      " 15  Historico_Familiar           18740 non-null  object \n",
      " 16  Risco_Doenca                 18740 non-null  object \n",
      "dtypes: float64(4), int64(5), object(8)\n",
      "memory usage: 2.6+ MB\n"
     ]
    }
   ],
   "source": [
    "df_clean.info()"
   ]
  },
  {
   "cell_type": "code",
   "execution_count": 39,
   "id": "a571629c-ab02-4689-b2e9-38e3f144bfd7",
   "metadata": {},
   "outputs": [],
   "source": [
    "df_clean[\"Calorias\"] = pd.to_numeric(df_clean[\"Calorias\"], errors=\"coerce\")\n",
    "df_clean[\"Colesterol\"] = pd.to_numeric(df_clean[\"Colesterol\"], errors=\"coerce\")\n",
    "df_clean[\"Passos_Diarios\"] = pd.to_numeric(df_clean[\"Passos_Diarios\"], errors=\"coerce\")"
   ]
  },
  {
   "cell_type": "code",
   "execution_count": 41,
   "id": "f0290f91-4242-42b9-aa63-f392dacbe310",
   "metadata": {},
   "outputs": [
    {
     "data": {
      "text/plain": [
       "Passos_Diarios    145\n",
       "Calorias          145\n",
       "Colesterol        140\n",
       "dtype: int64"
      ]
     },
     "metadata": {},
     "output_type": "display_data"
    }
   ],
   "source": [
    "display(df_clean[[\"Passos_Diarios\",\"Calorias\", \"Colesterol\"]].isna().sum())"
   ]
  },
  {
   "cell_type": "code",
   "execution_count": 43,
   "id": "4bcf9676-0865-4be1-b154-96352d4d48e1",
   "metadata": {},
   "outputs": [],
   "source": [
    "df_clean = df_clean.dropna()"
   ]
  },
  {
   "cell_type": "code",
   "execution_count": 45,
   "id": "dda21b0d-ee5f-46bb-97f6-a098cde0ccf9",
   "metadata": {},
   "outputs": [
    {
     "name": "stdout",
     "output_type": "stream",
     "text": [
      "<class 'pandas.core.frame.DataFrame'>\n",
      "Index: 18313 entries, 0 to 19999\n",
      "Data columns (total 17 columns):\n",
      " #   Column                       Non-Null Count  Dtype  \n",
      "---  ------                       --------------  -----  \n",
      " 0   ID                           18313 non-null  int64  \n",
      " 1   Idade                        18313 non-null  float64\n",
      " 2   Sexo                         18313 non-null  object \n",
      " 3   IMC                          18313 non-null  float64\n",
      " 4   Passos_Diarios               18313 non-null  float64\n",
      " 5   Horas_Sono                   18313 non-null  float64\n",
      " 6   Agua_Litros                  18313 non-null  float64\n",
      " 7   Calorias                     18313 non-null  float64\n",
      " 8   Fumante                      18313 non-null  object \n",
      " 9   Alcool                       18313 non-null  object \n",
      " 10  Horas_Trabalho               18313 non-null  int64  \n",
      " 11  Frequencia_Cardiaca_Repouso  18313 non-null  int64  \n",
      " 12  Pressao_Sistolica            18313 non-null  int64  \n",
      " 13  Pressao_Diastolica           18313 non-null  int64  \n",
      " 14  Colesterol                   18313 non-null  float64\n",
      " 15  Historico_Familiar           18313 non-null  object \n",
      " 16  Risco_Doenca                 18313 non-null  object \n",
      "dtypes: float64(7), int64(5), object(5)\n",
      "memory usage: 2.5+ MB\n"
     ]
    }
   ],
   "source": [
    "df_clean.info()"
   ]
  },
  {
   "cell_type": "code",
   "execution_count": 47,
   "id": "27eea44d-149b-4a91-bfeb-9e54775af57c",
   "metadata": {},
   "outputs": [],
   "source": [
    "df_clean = df_clean.drop(columns=[\"ID\"], errors=\"ignore\")"
   ]
  },
  {
   "cell_type": "code",
   "execution_count": 62,
   "id": "0208f9ac-fd7f-4f8f-bc7e-89e81ff63651",
   "metadata": {},
   "outputs": [],
   "source": [
    "colunas_quantitativas = df_clean.select_dtypes(include=np.number).columns.tolist()"
   ]
  },
  {
   "cell_type": "code",
   "execution_count": 78,
   "id": "f995acac-635b-40fa-a061-ca86a99f2f24",
   "metadata": {},
   "outputs": [
    {
     "name": "stdout",
     "output_type": "stream",
     "text": [
      "--- Colunas Quantitativas (Numéricas) ---\n",
      "['Idade', 'IMC', 'Passos_Diarios', 'Horas_Sono', 'Agua_Litros', 'Calorias', 'Horas_Trabalho', 'Frequencia_Cardiaca_Repouso', 'Pressao_Sistolica', 'Pressao_Diastolica', 'Colesterol']\n"
     ]
    }
   ],
   "source": [
    "print(\"--- Colunas Quantitativas (Numéricas) ---\")\n",
    "print(colunas_quantitativas)"
   ]
  },
  {
   "cell_type": "code",
   "execution_count": 66,
   "id": "d2701d67-16cb-4cea-bec0-9df597bcf6ae",
   "metadata": {},
   "outputs": [],
   "source": [
    "colunas_qualitativas = df_clean.select_dtypes(include=['object', 'category']).columns.tolist()"
   ]
  },
  {
   "cell_type": "code",
   "execution_count": 80,
   "id": "f22ddd8f-08cd-4045-b212-5f3baad602ca",
   "metadata": {},
   "outputs": [
    {
     "name": "stdout",
     "output_type": "stream",
     "text": [
      "--- Colunas Qualitativas (Categóricas) ---\n",
      "['Sexo', 'Fumante', 'Alcool', 'Historico_Familiar', 'Risco_Doenca']\n"
     ]
    }
   ],
   "source": [
    "print(\"--- Colunas Qualitativas (Categóricas) ---\")\n",
    "print(colunas_qualitativas)"
   ]
  },
  {
   "cell_type": "code",
   "execution_count": 98,
   "id": "0048638d-ca9f-43b7-a331-4f7bba54dc95",
   "metadata": {},
   "outputs": [
    {
     "name": "stdout",
     "output_type": "stream",
     "text": [
      "\n",
      "Coluna: Sexo\n",
      "['Masculino' 'Feminino']\n",
      "\n",
      "Coluna: Fumante\n",
      "['Não' 'Sim']\n",
      "\n",
      "Coluna: Alcool\n",
      "['Moderado' 'Baixo' 'Alto']\n",
      "\n",
      "Coluna: Historico_Familiar\n",
      "['Não' 'Sim']\n",
      "\n",
      "Coluna: Risco_Doenca\n",
      "['Baixo' 'Moderado' 'Alto' 'Muito Alto']\n"
     ]
    }
   ],
   "source": [
    "for categoria in colunas_qualitativas:\n",
    "    print(f\"\\nColuna: {categoria}\")\n",
    "    print(df_clean[categoria].unique())"
   ]
  },
  {
   "cell_type": "markdown",
   "id": "62feb22d-ee07-471c-96c0-2e6ef256cab4",
   "metadata": {},
   "source": [
    "# Análise "
   ]
  },
  {
   "cell_type": "code",
   "execution_count": 70,
   "id": "2e3c5569-2321-49be-9e45-1c57fb1a6222",
   "metadata": {},
   "outputs": [
    {
     "data": {
      "text/html": [
       "<div>\n",
       "<style scoped>\n",
       "    .dataframe tbody tr th:only-of-type {\n",
       "        vertical-align: middle;\n",
       "    }\n",
       "\n",
       "    .dataframe tbody tr th {\n",
       "        vertical-align: top;\n",
       "    }\n",
       "\n",
       "    .dataframe thead th {\n",
       "        text-align: right;\n",
       "    }\n",
       "</style>\n",
       "<table border=\"1\" class=\"dataframe\">\n",
       "  <thead>\n",
       "    <tr style=\"text-align: right;\">\n",
       "      <th></th>\n",
       "      <th>count</th>\n",
       "      <th>mean</th>\n",
       "      <th>std</th>\n",
       "      <th>min</th>\n",
       "      <th>25%</th>\n",
       "      <th>50%</th>\n",
       "      <th>75%</th>\n",
       "      <th>max</th>\n",
       "    </tr>\n",
       "  </thead>\n",
       "  <tbody>\n",
       "    <tr>\n",
       "      <th>Idade</th>\n",
       "      <td>18313.0</td>\n",
       "      <td>53.465462</td>\n",
       "      <td>20.759772</td>\n",
       "      <td>18.0</td>\n",
       "      <td>35.0</td>\n",
       "      <td>53.0</td>\n",
       "      <td>71.0</td>\n",
       "      <td>89.0</td>\n",
       "    </tr>\n",
       "    <tr>\n",
       "      <th>IMC</th>\n",
       "      <td>18313.0</td>\n",
       "      <td>24.981975</td>\n",
       "      <td>4.991810</td>\n",
       "      <td>2.7</td>\n",
       "      <td>21.6</td>\n",
       "      <td>25.0</td>\n",
       "      <td>28.3</td>\n",
       "      <td>45.5</td>\n",
       "    </tr>\n",
       "    <tr>\n",
       "      <th>Passos_Diarios</th>\n",
       "      <td>18313.0</td>\n",
       "      <td>10526.377491</td>\n",
       "      <td>5454.005451</td>\n",
       "      <td>1000.0</td>\n",
       "      <td>5840.0</td>\n",
       "      <td>10527.0</td>\n",
       "      <td>15235.0</td>\n",
       "      <td>19999.0</td>\n",
       "    </tr>\n",
       "    <tr>\n",
       "      <th>Horas_Sono</th>\n",
       "      <td>18313.0</td>\n",
       "      <td>7.003380</td>\n",
       "      <td>1.506376</td>\n",
       "      <td>1.1</td>\n",
       "      <td>6.0</td>\n",
       "      <td>7.0</td>\n",
       "      <td>8.0</td>\n",
       "      <td>13.2</td>\n",
       "    </tr>\n",
       "    <tr>\n",
       "      <th>Agua_Litros</th>\n",
       "      <td>18313.0</td>\n",
       "      <td>1.998203</td>\n",
       "      <td>0.704767</td>\n",
       "      <td>-0.7</td>\n",
       "      <td>1.5</td>\n",
       "      <td>2.0</td>\n",
       "      <td>2.5</td>\n",
       "      <td>4.7</td>\n",
       "    </tr>\n",
       "    <tr>\n",
       "      <th>Calorias</th>\n",
       "      <td>18313.0</td>\n",
       "      <td>3288.315732</td>\n",
       "      <td>1976.150638</td>\n",
       "      <td>1200.0</td>\n",
       "      <td>2156.0</td>\n",
       "      <td>3134.0</td>\n",
       "      <td>4110.0</td>\n",
       "      <td>24970.0</td>\n",
       "    </tr>\n",
       "    <tr>\n",
       "      <th>Horas_Trabalho</th>\n",
       "      <td>18313.0</td>\n",
       "      <td>8.505543</td>\n",
       "      <td>2.857601</td>\n",
       "      <td>4.0</td>\n",
       "      <td>6.0</td>\n",
       "      <td>9.0</td>\n",
       "      <td>11.0</td>\n",
       "      <td>13.0</td>\n",
       "    </tr>\n",
       "    <tr>\n",
       "      <th>Frequencia_Cardiaca_Repouso</th>\n",
       "      <td>18313.0</td>\n",
       "      <td>74.536832</td>\n",
       "      <td>14.516828</td>\n",
       "      <td>50.0</td>\n",
       "      <td>62.0</td>\n",
       "      <td>75.0</td>\n",
       "      <td>87.0</td>\n",
       "      <td>99.0</td>\n",
       "    </tr>\n",
       "    <tr>\n",
       "      <th>Pressao_Sistolica</th>\n",
       "      <td>18313.0</td>\n",
       "      <td>134.625894</td>\n",
       "      <td>26.064592</td>\n",
       "      <td>90.0</td>\n",
       "      <td>112.0</td>\n",
       "      <td>135.0</td>\n",
       "      <td>157.0</td>\n",
       "      <td>179.0</td>\n",
       "    </tr>\n",
       "    <tr>\n",
       "      <th>Pressao_Diastolica</th>\n",
       "      <td>18313.0</td>\n",
       "      <td>89.557637</td>\n",
       "      <td>17.322137</td>\n",
       "      <td>60.0</td>\n",
       "      <td>75.0</td>\n",
       "      <td>90.0</td>\n",
       "      <td>104.0</td>\n",
       "      <td>119.0</td>\n",
       "    </tr>\n",
       "    <tr>\n",
       "      <th>Colesterol</th>\n",
       "      <td>18313.0</td>\n",
       "      <td>212.279037</td>\n",
       "      <td>58.816857</td>\n",
       "      <td>120.0</td>\n",
       "      <td>164.0</td>\n",
       "      <td>211.0</td>\n",
       "      <td>257.0</td>\n",
       "      <td>598.0</td>\n",
       "    </tr>\n",
       "  </tbody>\n",
       "</table>\n",
       "</div>"
      ],
      "text/plain": [
       "                               count          mean          std     min  \\\n",
       "Idade                        18313.0     53.465462    20.759772    18.0   \n",
       "IMC                          18313.0     24.981975     4.991810     2.7   \n",
       "Passos_Diarios               18313.0  10526.377491  5454.005451  1000.0   \n",
       "Horas_Sono                   18313.0      7.003380     1.506376     1.1   \n",
       "Agua_Litros                  18313.0      1.998203     0.704767    -0.7   \n",
       "Calorias                     18313.0   3288.315732  1976.150638  1200.0   \n",
       "Horas_Trabalho               18313.0      8.505543     2.857601     4.0   \n",
       "Frequencia_Cardiaca_Repouso  18313.0     74.536832    14.516828    50.0   \n",
       "Pressao_Sistolica            18313.0    134.625894    26.064592    90.0   \n",
       "Pressao_Diastolica           18313.0     89.557637    17.322137    60.0   \n",
       "Colesterol                   18313.0    212.279037    58.816857   120.0   \n",
       "\n",
       "                                25%      50%      75%      max  \n",
       "Idade                          35.0     53.0     71.0     89.0  \n",
       "IMC                            21.6     25.0     28.3     45.5  \n",
       "Passos_Diarios               5840.0  10527.0  15235.0  19999.0  \n",
       "Horas_Sono                      6.0      7.0      8.0     13.2  \n",
       "Agua_Litros                     1.5      2.0      2.5      4.7  \n",
       "Calorias                     2156.0   3134.0   4110.0  24970.0  \n",
       "Horas_Trabalho                  6.0      9.0     11.0     13.0  \n",
       "Frequencia_Cardiaca_Repouso    62.0     75.0     87.0     99.0  \n",
       "Pressao_Sistolica             112.0    135.0    157.0    179.0  \n",
       "Pressao_Diastolica             75.0     90.0    104.0    119.0  \n",
       "Colesterol                    164.0    211.0    257.0    598.0  "
      ]
     },
     "execution_count": 70,
     "metadata": {},
     "output_type": "execute_result"
    }
   ],
   "source": [
    "df_clean[colunas_quantitativas].describe().T"
   ]
  },
  {
   "cell_type": "code",
   "execution_count": 100,
   "id": "af985920-82d2-4e6a-bb81-d26a1f8cae17",
   "metadata": {},
   "outputs": [
    {
     "data": {
      "image/png": "[encoded data removed]",
      "text/plain": [
       "<Figure size 800x400 with 1 Axes>"
      ]
     },
     "metadata": {},
     "output_type": "display_data"
    },
    {
     "data": {
      "image/png": "[encoded data removed]",
      "text/plain": [
       "<Figure size 800x400 with 1 Axes>"
      ]
     },
     "metadata": {},
     "output_type": "display_data"
    },
    {
     "data": {
      "image/png": "[encoded data removed]",
      "text/plain": [
       "<Figure size 800x400 with 1 Axes>"
      ]
     },
     "metadata": {},
     "output_type": "display_data"
    },
    {
     "data": {
      "image/png": "[encoded data removed]",
      "text/plain": [
       "<Figure size 800x400 with 1 Axes>"
      ]
     },
     "metadata": {},
     "output_type": "display_data"
    },
    {
     "data": {
      "image/png": "[encoded data removed]",
      "text/plain": [
       "<Figure size 800x400 with 1 Axes>"
      ]
     },
     "metadata": {},
     "output_type": "display_data"
    },
    {
     "data": {
      "image/png": "[encoded data removed]",
      "text/plain": [
       "<Figure size 800x400 with 1 Axes>"
      ]
     },
     "metadata": {},
     "output_type": "display_data"
    },
    {
     "data": {
      "image/png": "[encoded data removed]",
      "text/plain": [
       "<Figure size 800x400 with 1 Axes>"
      ]
     },
     "metadata": {},
     "output_type": "display_data"
    },
    {
     "data": {
      "image/png": "[encoded data removed]",
      "text/plain": [
       "<Figure size 800x400 with 1 Axes>"
      ]
     },
     "metadata": {},
     "output_type": "display_data"
    },
    {
     "data": {
      "image/png": "[encoded data removed]",
      "text/plain": [
       "<Figure size 800x400 with 1 Axes>"
      ]
     },
     "metadata": {},
     "output_type": "display_data"
    },
    {
     "data": {
      "image/png": "[encoded data removed]",
      "text/plain": [
       "<Figure size 800x400 with 1 Axes>"
      ]
     },
     "metadata": {},
     "output_type": "display_data"
    },
    {
     "data": {
      "image/png": "[encoded data removed]",
      "text/plain": [
       "<Figure size 800x400 with 1 Axes>"
      ]
     },
     "metadata": {},
     "output_type": "display_data"
    }
   ],
   "source": [
    "import matplotlib.pyplot as plt\n",
    "import seaborn as sns\n",
    "\n",
    "# Selecionar apenas as colunas numéricas\n",
    "colunas_numericas = df_clean.select_dtypes(include=['int64', 'float64']).columns\n",
    "\n",
    "# Criar boxplots para cada variável numérica\n",
    "for coluna in colunas_numericas:\n",
    "    plt.figure(figsize=(8, 4))\n",
    "    sns.boxplot(x=df_clean[coluna])\n",
    "    plt.title(f\"Boxplot - {coluna}\")\n",
    "    plt.show()"
   ]
  },
  {
   "cell_type": "markdown",
   "id": "4862fbf9-c2bb-4f2a-9714-26603a7f0e11",
   "metadata": {},
   "source": [
    "# Análise Bivariada"
   ]
  },
  {
   "cell_type": "code",
   "execution_count": null,
   "id": "f1ebe984-96d4-466c-8fab-742da19f0a42",
   "metadata": {},
   "outputs": [],
   "source": []
  },
  {
   "cell_type": "markdown",
   "id": "c57d6985-fdbd-4f03-bfab-38b3fa66cddf",
   "metadata": {},
   "source": [
    "# Análise Multivariada"
   ]
  },
  {
   "cell_type": "code",
   "execution_count": null,
   "id": "f6320af9-6337-4a3c-bbf3-b0ff1012d0df",
   "metadata": {},
   "outputs": [],
   "source": []
  }
 ],
 "metadata": {
  "kernelspec": {
   "display_name": "Python 3 (ipykernel)",
   "language": "python",
   "name": "python3"
  },
  "language_info": {
   "codemirror_mode": {
    "name": "ipython",
    "version": 3
   },
   "file_extension": ".py",
   "mimetype": "text/x-python",
   "name": "python",
   "nbconvert_exporter": "python",
   "pygments_lexer": "ipython3",
   "version": "3.12.7"
  }
 },
 "nbformat": 4,
 "nbformat_minor": 5
}
